{
 "cells": [
  {
   "cell_type": "code",
   "execution_count": 7,
   "metadata": {},
   "outputs": [
    {
     "name": "stdout",
     "output_type": "stream",
     "text": [
      "2\n",
      "30\n",
      "5\n",
      "25\n",
      "1\n",
      "lions\n",
      "tigers\n",
      "bears\n",
      "snakes\n"
     ]
    }
   ],
   "source": [
    "zoo = {\"lions\": 30, \"tigers\": 2, \"bears\": 25}\n",
    "\n",
    "tigers_amount = zoo[\"tigers\"]\n",
    "print(f'{zoo[\"tigers\"]}')\n",
    "\n",
    "zoo[\"snakes\"] = 1\n",
    "\n",
    "zoo[\"tigers\"] = tigers_amount + 3\n",
    "\n",
    "for value in zoo.values():\n",
    "    print (str(value))\n",
    "\n",
    "for key in zoo:\n",
    "    print (key)"
   ]
  },
  {
   "cell_type": "code",
   "execution_count": 14,
   "metadata": {},
   "outputs": [
    {
     "name": "stdout",
     "output_type": "stream",
     "text": [
      "<_io.TextIOWrapper name='../election_data.csv' mode='r' encoding='UTF-8'>\n"
     ]
    }
   ],
   "source": [
    "import os\n",
    "import csv\n",
    "\n",
    "polldata_csv = os.path.join('..', 'election_data.csv')\n",
    "\n",
    "with open (polldata_csv, 'r') as polldatafile:\n",
    "    csvreader = csv.reader(polldatafile, delimiter = ',')\n",
    "\n",
    "    csv_header = next(polldatafile)\n",
    "    voter_total = 0\n",
    "\n",
    "    for row in csv.reader(polldatafile):\n",
    "        voter = int(row[0])\n",
    "\n",
    "        voter_total +=1\n",
    "\n",
    "\n",
    "\n",
    "    \n",
    "    for key in {polldatafile}:\n",
    "        print(polldatafile)"
   ]
  },
  {
   "cell_type": "code",
   "execution_count": null,
   "metadata": {},
   "outputs": [],
   "source": []
  }
 ],
 "metadata": {
  "kernelspec": {
   "display_name": "Python 3",
   "language": "python",
   "name": "python3"
  },
  "language_info": {
   "codemirror_mode": {
    "name": "ipython",
    "version": 3
   },
   "file_extension": ".py",
   "mimetype": "text/x-python",
   "name": "python",
   "nbconvert_exporter": "python",
   "pygments_lexer": "ipython3",
   "version": "3.7.1"
  }
 },
 "nbformat": 4,
 "nbformat_minor": 2
}
